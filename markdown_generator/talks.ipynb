{
 "cells": [
  {
   "cell_type": "markdown",
   "metadata": {
    "deletable": true,
    "editable": true
   },
   "source": [
    "# Talks markdown generator for academicpages\n",
    "\n",
    "Takes a TSV of talks with metadata and converts them for use with [academicpages.github.io](academicpages.github.io). This is an interactive Jupyter notebook ([see more info here](http://jupyter-notebook-beginner-guide.readthedocs.io/en/latest/what_is_jupyter.html)). The core python code is also in `talks.py`. Run either from the `markdown_generator` folder after replacing `talks.tsv` with one containing your data.\n",
    "\n",
    "TODO: Make this work with BibTex and other databases, rather than Stuart's non-standard TSV format and citation style."
   ]
  },
  {
   "cell_type": "code",
   "execution_count": 71,
   "metadata": {
    "collapsed": false,
    "deletable": true,
    "editable": true
   },
   "outputs": [],
   "source": [
    "import pandas as pd\n",
    "import os"
   ]
  },
  {
   "cell_type": "markdown",
   "metadata": {},
   "source": [
    "## Data format\n",
    "\n",
    "The TSV needs to have the following columns: title, type, url_slug, venue, date, location, talk_url, description, with a header at the top. Many of these fields can be blank, but the columns must be in the TSV.\n",
    "\n",
    "- Fields that cannot be blank: `title`, `url_slug`, `date`. All else can be blank. `type` defaults to \"Talk\" \n",
    "- `date` must be formatted as YYYY-MM-DD.\n",
    "- `url_slug` will be the descriptive part of the .md file and the permalink URL for the page about the paper. \n",
    "    - The .md file will be `YYYY-MM-DD-[url_slug].md` and the permalink will be `https://[yourdomain]/talks/YYYY-MM-DD-[url_slug]`\n",
    "    - The combination of `url_slug` and `date` must be unique, as it will be the basis for your filenames\n",
    "\n",
    "This is how the raw file looks (it doesn't look pretty, use a spreadsheet or other program to edit and create)."
   ]
  },
  {
   "cell_type": "code",
   "execution_count": 72,
   "metadata": {
    "collapsed": false
   },
   "outputs": [
    {
     "name": "stderr",
     "output_type": "stream",
     "text": [
      "'cat' is not recognized as an internal or external command,\n",
      "operable program or batch file.\n"
     ]
    }
   ],
   "source": [
    "!cat talks.tsv"
   ]
  },
  {
   "cell_type": "markdown",
   "metadata": {},
   "source": [
    "## Import TSV\n",
    "\n",
    "Pandas makes this easy with the read_csv function. We are using a TSV, so we specify the separator as a tab, or `\\t`.\n",
    "\n",
    "I found it important to put this data in a tab-separated values format, because there are a lot of commas in this kind of data and comma-separated values can get messed up. However, you can modify the import statement, as pandas also has read_excel(), read_json(), and others."
   ]
  },
  {
   "cell_type": "code",
   "execution_count": 73,
   "metadata": {
    "collapsed": false,
    "deletable": true,
    "editable": true
   },
   "outputs": [
    {
     "data": {
      "text/html": [
       "<div>\n",
       "<style scoped>\n",
       "    .dataframe tbody tr th:only-of-type {\n",
       "        vertical-align: middle;\n",
       "    }\n",
       "\n",
       "    .dataframe tbody tr th {\n",
       "        vertical-align: top;\n",
       "    }\n",
       "\n",
       "    .dataframe thead th {\n",
       "        text-align: right;\n",
       "    }\n",
       "</style>\n",
       "<table border=\"1\" class=\"dataframe\">\n",
       "  <thead>\n",
       "    <tr style=\"text-align: right;\">\n",
       "      <th></th>\n",
       "      <th>title</th>\n",
       "      <th>type</th>\n",
       "      <th>url_slug</th>\n",
       "      <th>venue</th>\n",
       "      <th>date</th>\n",
       "      <th>location</th>\n",
       "      <th>talk_url</th>\n",
       "      <th>description</th>\n",
       "    </tr>\n",
       "  </thead>\n",
       "  <tbody>\n",
       "    <tr>\n",
       "      <th>0</th>\n",
       "      <td>TAROS 2020: Towards Autonomous Robotic Systems...</td>\n",
       "      <td>Conference Presentation</td>\n",
       "      <td>TAROS_2020</td>\n",
       "      <td>Online</td>\n",
       "      <td>2020-09-16</td>\n",
       "      <td>UK</td>\n",
       "      <td>https://www.youtube.com/watch?v=jdf3Wn3Hdjg&amp;t=...</td>\n",
       "      <td>TAROS 2020 conference presentation for paper t...</td>\n",
       "    </tr>\n",
       "    <tr>\n",
       "      <th>1</th>\n",
       "      <td>International Conference on Robotics and Autom...</td>\n",
       "      <td>Conference Presentation</td>\n",
       "      <td>ICRA_2021</td>\n",
       "      <td>Online</td>\n",
       "      <td>2021-06-05</td>\n",
       "      <td>UK</td>\n",
       "      <td>https://www.youtube.com/watch?v=PXkNhbhgTUc&amp;t=...</td>\n",
       "      <td>ICRA 2020 conference presentation for paper ti...</td>\n",
       "    </tr>\n",
       "    <tr>\n",
       "      <th>2</th>\n",
       "      <td>British Orthopaedic Research Society (BORS) An...</td>\n",
       "      <td>Conference Presentation</td>\n",
       "      <td>BORS_2021</td>\n",
       "      <td>Online</td>\n",
       "      <td>2021-09-14</td>\n",
       "      <td>UK</td>\n",
       "      <td>NaN</td>\n",
       "      <td>BORS 2021 conference presentation for my proje...</td>\n",
       "    </tr>\n",
       "    <tr>\n",
       "      <th>3</th>\n",
       "      <td>Healthcare Technologies Student and Early Care...</td>\n",
       "      <td>Vicon Prize Presentation</td>\n",
       "      <td>Vicon_2022</td>\n",
       "      <td>Institute of Mechanical Engineering</td>\n",
       "      <td>2022-06-08</td>\n",
       "      <td>London, UK</td>\n",
       "      <td>https://www.imeche.org/news/news-article/healt...</td>\n",
       "      <td>Vicon Prize presentation for my FYP project: P...</td>\n",
       "    </tr>\n",
       "    <tr>\n",
       "      <th>4</th>\n",
       "      <td>ASME Turbo Expo 2023 Turbomachinery Technical ...</td>\n",
       "      <td>Conference Presentation</td>\n",
       "      <td>Turbo_2023</td>\n",
       "      <td>Hynes Convention Center</td>\n",
       "      <td>2023-06-26</td>\n",
       "      <td>Boston, USA</td>\n",
       "      <td>https://event.asme.org/Turbo-Expo-(1)</td>\n",
       "      <td>Turbo Expo 2023 conference presentation for pa...</td>\n",
       "    </tr>\n",
       "    <tr>\n",
       "      <th>5</th>\n",
       "      <td>ASME Turbo Expo 2024 Turbomachinery Technical ...</td>\n",
       "      <td>Conference Presentation</td>\n",
       "      <td>Turbo_2024</td>\n",
       "      <td>ExCeL London venue</td>\n",
       "      <td>2024-06-26</td>\n",
       "      <td>London, UK</td>\n",
       "      <td>https://event.asme.org/Turbo-Expo-2024</td>\n",
       "      <td>Turbo Expo 2024 conference presentation for pa...</td>\n",
       "    </tr>\n",
       "    <tr>\n",
       "      <th>6</th>\n",
       "      <td>Supercritical Carbon Dioxides Non-ideal Fluid ...</td>\n",
       "      <td>Talk</td>\n",
       "      <td>SJTU_2024</td>\n",
       "      <td>Shanghai Jiao Tong University</td>\n",
       "      <td>2024-08-13</td>\n",
       "      <td>Shanghai, China</td>\n",
       "      <td>NaN</td>\n",
       "      <td>Presentation of my PhD project at Shanghai Jia...</td>\n",
       "    </tr>\n",
       "    <tr>\n",
       "      <th>7</th>\n",
       "      <td>Non-Ideal Fluid Effects of Supercritical Carbo...</td>\n",
       "      <td>Talk</td>\n",
       "      <td>UKFN_2025</td>\n",
       "      <td>Imperial College London</td>\n",
       "      <td>2025-07-10</td>\n",
       "      <td>London, UK</td>\n",
       "      <td>NaN</td>\n",
       "      <td>Presentation of my PhD project at the 1st Unit...</td>\n",
       "    </tr>\n",
       "  </tbody>\n",
       "</table>\n",
       "</div>"
      ],
      "text/plain": [
       "                                               title  \\\n",
       "0  TAROS 2020: Towards Autonomous Robotic Systems...   \n",
       "1  International Conference on Robotics and Autom...   \n",
       "2  British Orthopaedic Research Society (BORS) An...   \n",
       "3  Healthcare Technologies Student and Early Care...   \n",
       "4  ASME Turbo Expo 2023 Turbomachinery Technical ...   \n",
       "5  ASME Turbo Expo 2024 Turbomachinery Technical ...   \n",
       "6  Supercritical Carbon Dioxides Non-ideal Fluid ...   \n",
       "7  Non-Ideal Fluid Effects of Supercritical Carbo...   \n",
       "\n",
       "                       type    url_slug                                venue  \\\n",
       "0   Conference Presentation  TAROS_2020                               Online   \n",
       "1   Conference Presentation   ICRA_2021                               Online   \n",
       "2   Conference Presentation   BORS_2021                               Online   \n",
       "3  Vicon Prize Presentation  Vicon_2022  Institute of Mechanical Engineering   \n",
       "4   Conference Presentation  Turbo_2023              Hynes Convention Center   \n",
       "5   Conference Presentation  Turbo_2024                   ExCeL London venue   \n",
       "6                      Talk   SJTU_2024        Shanghai Jiao Tong University   \n",
       "7                      Talk   UKFN_2025              Imperial College London   \n",
       "\n",
       "         date         location  \\\n",
       "0  2020-09-16               UK   \n",
       "1  2021-06-05               UK   \n",
       "2  2021-09-14               UK   \n",
       "3  2022-06-08       London, UK   \n",
       "4  2023-06-26      Boston, USA   \n",
       "5  2024-06-26       London, UK   \n",
       "6  2024-08-13  Shanghai, China   \n",
       "7  2025-07-10       London, UK   \n",
       "\n",
       "                                            talk_url  \\\n",
       "0  https://www.youtube.com/watch?v=jdf3Wn3Hdjg&t=...   \n",
       "1  https://www.youtube.com/watch?v=PXkNhbhgTUc&t=...   \n",
       "2                                                NaN   \n",
       "3  https://www.imeche.org/news/news-article/healt...   \n",
       "4              https://event.asme.org/Turbo-Expo-(1)   \n",
       "5             https://event.asme.org/Turbo-Expo-2024   \n",
       "6                                                NaN   \n",
       "7                                                NaN   \n",
       "\n",
       "                                         description  \n",
       "0  TAROS 2020 conference presentation for paper t...  \n",
       "1  ICRA 2020 conference presentation for paper ti...  \n",
       "2  BORS 2021 conference presentation for my proje...  \n",
       "3  Vicon Prize presentation for my FYP project: P...  \n",
       "4  Turbo Expo 2023 conference presentation for pa...  \n",
       "5  Turbo Expo 2024 conference presentation for pa...  \n",
       "6  Presentation of my PhD project at Shanghai Jia...  \n",
       "7  Presentation of my PhD project at the 1st Unit...  "
      ]
     },
     "execution_count": 73,
     "metadata": {},
     "output_type": "execute_result"
    }
   ],
   "source": [
    "talks = pd.read_csv(\"talks.tsv\", sep=\"\\t\", header=0)\n",
    "talks"
   ]
  },
  {
   "cell_type": "markdown",
   "metadata": {},
   "source": [
    "## Escape special characters\n",
    "\n",
    "YAML is very picky about how it takes a valid string, so we are replacing single and double quotes (and ampersands) with their HTML encoded equivilents. This makes them look not so readable in raw format, but they are parsed and rendered nicely."
   ]
  },
  {
   "cell_type": "code",
   "execution_count": 74,
   "metadata": {
    "collapsed": false,
    "deletable": true,
    "editable": true
   },
   "outputs": [],
   "source": [
    "html_escape_table = {\n",
    "    \"&\": \"&amp;\",\n",
    "    '\"': \"&quot;\",\n",
    "    \"'\": \"&apos;\"\n",
    "    }\n",
    "\n",
    "def html_escape(text):\n",
    "    if type(text) is str:\n",
    "        return \"\".join(html_escape_table.get(c,c) for c in text)\n",
    "    else:\n",
    "        return \"False\""
   ]
  },
  {
   "cell_type": "markdown",
   "metadata": {},
   "source": [
    "## Creating the markdown files\n",
    "\n",
    "This is where the heavy lifting is done. This loops through all the rows in the TSV dataframe, then starts to concatentate a big string (```md```) that contains the markdown for each type. It does the YAML metadata first, then does the description for the individual page."
   ]
  },
  {
   "cell_type": "code",
   "execution_count": 75,
   "metadata": {
    "collapsed": false,
    "deletable": true,
    "editable": true
   },
   "outputs": [],
   "source": [
    "loc_dict = {}\n",
    "\n",
    "for row, item in talks.iterrows():\n",
    "    \n",
    "    md_filename = str(item.date) + \"-\" + item.url_slug + \".md\"\n",
    "    html_filename = str(item.date) + \"-\" + item.url_slug \n",
    "    year = item.date[:4]\n",
    "    \n",
    "    md = \"---\\ntitle: \\\"\"   + item.title + '\"\\n'\n",
    "    md += \"collection: talks\" + \"\\n\"\n",
    "    \n",
    "    if len(str(item.type)) > 3:\n",
    "        md += 'type: \"' + item.type + '\"\\n'\n",
    "    else:\n",
    "        md += 'type: \"Talk\"\\n'\n",
    "    \n",
    "    md += \"permalink: /talks/\" + html_filename + \"\\n\"\n",
    "    \n",
    "    if len(str(item.venue)) > 3:\n",
    "        md += 'venue: \"' + item.venue + '\"\\n'\n",
    "        \n",
    "    if len(str(item.location)) > 3:\n",
    "        md += \"date: \" + str(item.date) + \"\\n\"\n",
    "    \n",
    "    if len(str(item.location)) > 3:\n",
    "        md += 'location: \"' + str(item.location) + '\"\\n'\n",
    "           \n",
    "    md += \"---\\n\"\n",
    "    \n",
    "    \n",
    "    if len(str(item.talk_url)) > 3:\n",
    "        md += \"\\n[More information here](\" + item.talk_url + \")\\n\" \n",
    "        \n",
    "    \n",
    "    if len(str(item.description)) > 3:\n",
    "        md += \"\\n\" + html_escape(item.description) + \"\\n\"\n",
    "        \n",
    "        \n",
    "    md_filename = os.path.basename(md_filename)\n",
    "    #print(md)\n",
    "    \n",
    "    with open(\"../_talks/\" + md_filename, 'w') as f:\n",
    "        f.write(md)"
   ]
  },
  {
   "cell_type": "markdown",
   "metadata": {},
   "source": [
    "These files are in the talks directory, one directory below where we're working from."
   ]
  },
  {
   "cell_type": "code",
   "execution_count": 76,
   "metadata": {
    "collapsed": false,
    "deletable": true,
    "editable": true
   },
   "outputs": [
    {
     "name": "stderr",
     "output_type": "stream",
     "text": [
      "'ls' is not recognized as an internal or external command,\n",
      "operable program or batch file.\n"
     ]
    }
   ],
   "source": [
    "!ls ../_talks"
   ]
  },
  {
   "cell_type": "code",
   "execution_count": 77,
   "metadata": {
    "collapsed": false,
    "deletable": true,
    "editable": true
   },
   "outputs": [
    {
     "name": "stderr",
     "output_type": "stream",
     "text": [
      "'cat' is not recognized as an internal or external command,\n",
      "operable program or batch file.\n"
     ]
    }
   ],
   "source": [
    "!cat ../_talks/2013-03-01-tutorial-1.md"
   ]
  }
 ],
 "metadata": {
  "kernelspec": {
   "display_name": "Python 3",
   "language": "python",
   "name": "python3"
  },
  "language_info": {
   "codemirror_mode": {
    "name": "ipython",
    "version": 3
   },
   "file_extension": ".py",
   "mimetype": "text/x-python",
   "name": "python",
   "nbconvert_exporter": "python",
   "pygments_lexer": "ipython3",
   "version": "3.6.13"
  }
 },
 "nbformat": 4,
 "nbformat_minor": 0
}
